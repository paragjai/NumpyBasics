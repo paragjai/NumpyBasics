{
 "cells": [
  {
   "cell_type": "code",
   "execution_count": 152,
   "metadata": {
    "collapsed": true
   },
   "outputs": [],
   "source": [
    "import numpy as np"
   ]
  },
  {
   "cell_type": "code",
   "execution_count": 153,
   "metadata": {
    "collapsed": false
   },
   "outputs": [],
   "source": [
    "def monte_carlo():\n",
    "    global switch_and_won_count\n",
    "    switched = 0\n",
    "    won = 0\n",
    "    '''Three doors => 2 have zonk(goat) behind them, one has the prize(car or vacation)'''\n",
    "    door_no = np.arange(3) # (0, 1, 2)\n",
    "\n",
    "    ''' Assuming first and third door always have goat(=0) and second door has prize(=1)'''\n",
    "    corresponding_prize = np.array([0,1,0])\n",
    "    door_with_prize = 1\n",
    "    door_with_zonk = np.array([0,2])\n",
    "\n",
    "\n",
    "    '''Choose one door number out of three each having equal probablity of being chosen'''\n",
    "    contestant_chooses_door_no = np.random.choice(door_no, 1)[0]\n",
    "    #print(\"Contestant chose door no\",contestant_chooses_door_no)\n",
    "\n",
    "    '''Open up the door with door no i)not equal to contestant_chooses_door_no ii)not having prize behind it\n",
    "    and show the corresponding prize'''\n",
    "\n",
    "    if corresponding_prize[contestant_chooses_door_no]:\n",
    "        show_the_zonk = np.random.choice(door_with_zonk, 1)[0] # Choose one of the 2 doors with zonk randomly\n",
    "        #print(\"Door Number\", show_the_zonk,\"is opened.\")\n",
    "        #print(corresponding_prize[show_the_zonk])\n",
    "        pass\n",
    "    else:\n",
    "        for show_the_zonk in door_with_zonk:\n",
    "            if show_the_zonk!=contestant_chooses_door_no:\n",
    "                #print(\"Door number\", show_the_zonk, \"is opened.\")\n",
    "                #print(corresponding_prize[show_the_zonk])\n",
    "                pass\n",
    "\n",
    "    door_which_was_opened = show_the_zonk\n",
    "    choose_one_between = [contestant_chooses_door_no, door_with_prize]\n",
    "    final_choice = np.random.choice(choose_one_between, 1)[0]\n",
    "    if final_choice==contestant_chooses_door_no:\n",
    "        #print(\"Door was not switched.\")\n",
    "        switched = 1\n",
    "    else:\n",
    "        #print(\"Door was switched.\")\n",
    "        switched = 0\n",
    "    #print(\"Finally door no\", final_choice, \"was chosen\")\n",
    "    if corresponding_prize[final_choice]:\n",
    "        #print(\"Car won!!!!!!!\")\n",
    "        won = 1\n",
    "    else:\n",
    "        #print(\"You got a goat :(\")\n",
    "        won = 0\n",
    "        \n",
    "    if switched and won:\n",
    "        switch_and_won_count = switch_and_won_count + 1"
   ]
  },
  {
   "cell_type": "code",
   "execution_count": 159,
   "metadata": {
    "collapsed": false
   },
   "outputs": [
    {
     "name": "stdout",
     "output_type": "stream",
     "text": [
      "33473\n",
      "33.473000000000006\n"
     ]
    }
   ],
   "source": [
    "no_of_times = 100000\n",
    "switch_and_won_count = 0\n",
    "for i in range(no_of_times):\n",
    "    monte_carlo()\n",
    "\n",
    "print(switch_and_won_count)\n",
    "print((switch_and_won_count/no_of_times)*100)"
   ]
  },
  {
   "cell_type": "code",
   "execution_count": null,
   "metadata": {
    "collapsed": true
   },
   "outputs": [],
   "source": []
  },
  {
   "cell_type": "code",
   "execution_count": null,
   "metadata": {
    "collapsed": true
   },
   "outputs": [],
   "source": []
  }
 ],
 "metadata": {
  "anaconda-cloud": {},
  "kernelspec": {
   "display_name": "Python [conda env:tf1]",
   "language": "python",
   "name": "conda-env-tf1-py"
  },
  "language_info": {
   "codemirror_mode": {
    "name": "ipython",
    "version": 3
   },
   "file_extension": ".py",
   "mimetype": "text/x-python",
   "name": "python",
   "nbconvert_exporter": "python",
   "pygments_lexer": "ipython3",
   "version": "3.6.1"
  }
 },
 "nbformat": 4,
 "nbformat_minor": 1
}
